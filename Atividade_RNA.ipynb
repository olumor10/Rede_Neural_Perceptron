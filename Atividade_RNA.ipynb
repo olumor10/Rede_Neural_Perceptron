{
  "nbformat": 4,
  "nbformat_minor": 0,
  "metadata": {
    "colab": {
      "provenance": [],
      "toc_visible": true,
      "mount_file_id": "1YoE4tfb4n4NuFmoQn5iWEPWuE9TxeixM",
      "authorship_tag": "ABX9TyOEy42I7fbuAU8izlE2PWQl",
      "include_colab_link": true
    },
    "kernelspec": {
      "name": "python3",
      "display_name": "Python 3"
    },
    "language_info": {
      "name": "python"
    }
  },
  "cells": [
    {
      "cell_type": "markdown",
      "metadata": {
        "id": "view-in-github",
        "colab_type": "text"
      },
      "source": [
        "<a href=\"https://colab.research.google.com/github/olumor10/Rede_Neural_Perceptron/blob/main/Atividade_RNA.ipynb\" target=\"_parent\"><img src=\"https://colab.research.google.com/assets/colab-badge.svg\" alt=\"Open In Colab\"/></a>"
      ]
    },
    {
      "cell_type": "markdown",
      "source": [
        "# <font color='gold'> **Redes Neurais Artificiais: *Perceptron*** </font>\n",
        "\n",
        "---\n",
        "**Referência:**\n",
        "\n",
        "SILVA, Ivan Nunes da; SPATTI, Danilo Hernane; FLAUZINO, Rogério Andrade. **Redes neurais artificiais:** para engenharia e ciências aplicadas. São Paulo: Artliber, 2010.\n",
        "\n",
        "---\n",
        "**Dupla:**\n",
        "\n",
        "- Rafael Azevedo\n",
        "\n",
        "- Rômulo Rodrigues\n",
        "\n",
        "---\n"
      ],
      "metadata": {
        "id": "9h4cZakD7_Bx"
      }
    },
    {
      "cell_type": "markdown",
      "source": [
        "Arquitetura do *Perceptron* para o projeto\n",
        "\n",
        "<img src=\"https://lh3.googleusercontent.com/pw/AP1GczMYzi2ugdKDyUZgBc3mS_s80LMpNmKGGX8lOVVAAQNsv-BEnJU9L5kFdzreNCAgi4LnXICLR4RpXG4oKSyD-cxpA8O241oepYrmlQKKDcDx1fz1_p2L94L9zPjGF-mX2QLO_sDLT0mwcgrJO_NfkfD2=w606-h289-s-no-gm?authuser=0\" alt=\"Texto alternativo\" width=\"300px\" height=\"\">"
      ],
      "metadata": {
        "id": "hVlk8jiPm5RB"
      }
    },
    {
      "cell_type": "code",
      "source": [
        "# Bibliotecas\n",
        "import pandas as pd\n",
        "import numpy as np\n",
        "import matplotlib.pyplot as plt\n",
        "import plotly.express as px\n",
        "# Estilo do gráfico plt\n",
        "plt.style.use('dark_background')"
      ],
      "metadata": {
        "id": "NPTjYxLimpoH"
      },
      "execution_count": null,
      "outputs": []
    },
    {
      "cell_type": "markdown",
      "source": [
        "---\n",
        "## <font color='Yellow'> Dados de treinamento </font>"
      ],
      "metadata": {
        "id": "Z9UfrD2kqKxh"
      }
    },
    {
      "cell_type": "code",
      "source": [
        "# Importando dados e salvando como Dataframe para treinamento do moelo\n",
        "df_treino = pd.read_csv('/content/drive/MyDrive/apendice1.csv', index_col=0)\n",
        "print(df_treino)"
      ],
      "metadata": {
        "colab": {
          "base_uri": "https://localhost:8080/"
        },
        "id": "mHn8jNclkzw-",
        "outputId": "423b65aa-528c-4780-9a6b-d0db9c206780"
      },
      "execution_count": null,
      "outputs": [
        {
          "output_type": "stream",
          "name": "stdout",
          "text": [
            "             x1      x2       x3    d\n",
            "Amostra                              \n",
            "1       -0.6508  0.1097   4.0009 -1.0\n",
            "2       -1.4492  0.8896   4.4005 -1.0\n",
            "3        2.0850  0.6876  12.0710 -1.0\n",
            "4        0.2626  1.1476   7.7985  1.0\n",
            "5        0.6418  1.0234   7.0427  1.0\n",
            "6        0.2569  0.6730   8.3265 -1.0\n",
            "7        1.1155  0.6043   7.4446  1.0\n",
            "8        0.0914  0.3399   7.0677 -1.0\n",
            "9        0.0121  0.5256   4.6316  1.0\n",
            "10      -0.0429  0.4660   5.4323  1.0\n",
            "11       0.4340  0.6870   8.2287 -1.0\n",
            "12       0.2735  1.0287   7.1934  1.0\n",
            "13       0.4839  0.4851   7.4850 -1.0\n",
            "14       0.4089 -0.1267   5.5019 -1.0\n",
            "15       1.4391  0.1614   8.5843 -1.0\n",
            "16      -0.9115 -0.1973   2.1962 -1.0\n",
            "17       0.3654  1.0475   7.4858  1.0\n",
            "18       0.2144  0.7515   7.1699  1.0\n",
            "19       0.2013  1.0014   6.5489  1.0\n",
            "20       0.6483  0.2183   5.8991  1.0\n",
            "21      -0.1147  0.2242   7.2435 -1.0\n",
            "22      -0.7970  0.8795   3.8762  1.0\n",
            "23      -1.0625  0.6366   2.4707  1.0\n",
            "24       0.5307  0.1285   5.6883  1.0\n",
            "25      -1.2200  0.7777   1.7252  1.0\n",
            "26       0.3957  0.1076   5.6623 -1.0\n",
            "27      -0.1013  0.5989   7.1812 -1.0\n",
            "28       2.4482  0.9455  11.2095  1.0\n",
            "29       2.0149  0.6192  10.9263 -1.0\n",
            "30       0.2012  0.2611   5.4631  1.0\n"
          ]
        }
      ]
    },
    {
      "cell_type": "code",
      "source": [
        "# Salvando os dados de entrada e saída em variáveis separadas\n",
        "X_treino = df_treino[['x1', 'x2', 'x3']].values\n",
        "d_treino = df_treino[['d']].values\n",
        "\n",
        "# Mostrando os valores únicos de (d)\n",
        "valores_unicos = np.unique(d_treino, return_counts=True)\n",
        "print(f\"valor: {valores_unicos[0][0]}, contagem: {valores_unicos[1][0]}\")\n",
        "print(f\"valor: {valores_unicos[0][1]}, contagem: {valores_unicos[1][1]}\")"
      ],
      "metadata": {
        "colab": {
          "base_uri": "https://localhost:8080/"
        },
        "id": "qORboHid0lLK",
        "outputId": "16f4ded2-01af-445d-f68b-0d6ebfe627ac"
      },
      "execution_count": null,
      "outputs": [
        {
          "output_type": "stream",
          "name": "stdout",
          "text": [
            "valor: -1.0, contagem: 14\n",
            "valor: 1.0, contagem: 16\n"
          ]
        }
      ]
    },
    {
      "cell_type": "code",
      "source": [
        "# Gráfido 3D das entradas por classe\n",
        "fig = px.scatter_3d(df_treino, x='x1', y='x2', z='x3',\n",
        "                    color=df_treino['d'].map({-1: \"Óleo P1 (-1)\", 1: \"Óleo P2 (1)\"}),\n",
        "                    opacity=0.7, size_max=10,\n",
        "                    color_discrete_map={\"Óleo P1 (-1)\": \"blue\", \"Óleo P2 (1)\": \"red\"})\n",
        "\n",
        "fig.update_layout(scene=dict(\n",
        "    xaxis_title='x1',\n",
        "    yaxis_title='x2',\n",
        "    zaxis_title='x3',\n",
        "    bgcolor=\"black\"\n",
        "    ),\n",
        "    title=\"Dados de treino\",\n",
        "    template=\"plotly_dark\",\n",
        "    legend_title_text='Classes',\n",
        "    width=600,\n",
        "    height=400,\n",
        "    margin=dict(l=0, r=0, b=0, t=50)\n",
        ")\n",
        "fig.show()"
      ],
      "metadata": {
        "colab": {
          "base_uri": "https://localhost:8080/",
          "height": 417
        },
        "id": "u6KdHb651lvn",
        "outputId": "f6a42e73-3b5c-4473-d5a4-279624e1e8ba"
      },
      "execution_count": null,
      "outputs": [
        {
          "output_type": "display_data",
          "data": {
            "text/html": [
              "<html>\n",
              "<head><meta charset=\"utf-8\" /></head>\n",
              "<body>\n",
              "    <div>            <script src=\"https://cdnjs.cloudflare.com/ajax/libs/mathjax/2.7.5/MathJax.js?config=TeX-AMS-MML_SVG\"></script><script type=\"text/javascript\">if (window.MathJax && window.MathJax.Hub && window.MathJax.Hub.Config) {window.MathJax.Hub.Config({SVG: {font: \"STIX-Web\"}});}</script>                <script type=\"text/javascript\">window.PlotlyConfig = {MathJaxConfig: 'local'};</script>\n",
              "        <script charset=\"utf-8\" src=\"https://cdn.plot.ly/plotly-2.35.2.min.js\"></script>                <div id=\"f1303d59-d717-462e-92d6-c649e980d908\" class=\"plotly-graph-div\" style=\"height:400px; width:600px;\"></div>            <script type=\"text/javascript\">                                    window.PLOTLYENV=window.PLOTLYENV || {};                                    if (document.getElementById(\"f1303d59-d717-462e-92d6-c649e980d908\")) {                    Plotly.newPlot(                        \"f1303d59-d717-462e-92d6-c649e980d908\",                        [{\"hovertemplate\":\"color=Óleo P1 (-1)\\u003cbr\\u003ex1=%{x}\\u003cbr\\u003ex2=%{y}\\u003cbr\\u003ex3=%{z}\\u003cextra\\u003e\\u003c\\u002fextra\\u003e\",\"legendgroup\":\"Óleo P1 (-1)\",\"marker\":{\"color\":\"blue\",\"opacity\":0.7,\"symbol\":\"circle\"},\"mode\":\"markers\",\"name\":\"Óleo P1 (-1)\",\"scene\":\"scene\",\"showlegend\":true,\"x\":[-0.6508,-1.4492,2.085,0.2569,0.0914,0.434,0.4839,0.4089,1.4391,-0.9115,-0.1147,0.3957,-0.1013,2.0149],\"y\":[0.1097,0.8896,0.6876,0.673,0.3399,0.687,0.4851,-0.1267,0.1614,-0.1973,0.2242,0.1076,0.5989,0.6192],\"z\":[4.0009,4.4005,12.071,8.3265,7.0677,8.2287,7.485,5.5019,8.5843,2.1962,7.2435,5.6623,7.1812,10.9263],\"type\":\"scatter3d\"},{\"hovertemplate\":\"color=Óleo P2 (1)\\u003cbr\\u003ex1=%{x}\\u003cbr\\u003ex2=%{y}\\u003cbr\\u003ex3=%{z}\\u003cextra\\u003e\\u003c\\u002fextra\\u003e\",\"legendgroup\":\"Óleo P2 (1)\",\"marker\":{\"color\":\"red\",\"opacity\":0.7,\"symbol\":\"circle\"},\"mode\":\"markers\",\"name\":\"Óleo P2 (1)\",\"scene\":\"scene\",\"showlegend\":true,\"x\":[0.2626,0.6418,1.1155,0.0121,-0.0429,0.2735,0.3654,0.2144,0.2013,0.6483,-0.797,-1.0625,0.5307,-1.22,2.4482,0.2012],\"y\":[1.1476,1.0234,0.6043,0.5256,0.466,1.0287,1.0475,0.7515,1.0014,0.2183,0.8795,0.6366,0.1285,0.7777,0.9455,0.2611],\"z\":[7.7985,7.0427,7.4446,4.6316,5.4323,7.1934,7.4858,7.1699,6.5489,5.8991,3.8762,2.4707,5.6883,1.7252,11.2095,5.4631],\"type\":\"scatter3d\"}],                        {\"template\":{\"data\":{\"barpolar\":[{\"marker\":{\"line\":{\"color\":\"rgb(17,17,17)\",\"width\":0.5},\"pattern\":{\"fillmode\":\"overlay\",\"size\":10,\"solidity\":0.2}},\"type\":\"barpolar\"}],\"bar\":[{\"error_x\":{\"color\":\"#f2f5fa\"},\"error_y\":{\"color\":\"#f2f5fa\"},\"marker\":{\"line\":{\"color\":\"rgb(17,17,17)\",\"width\":0.5},\"pattern\":{\"fillmode\":\"overlay\",\"size\":10,\"solidity\":0.2}},\"type\":\"bar\"}],\"carpet\":[{\"aaxis\":{\"endlinecolor\":\"#A2B1C6\",\"gridcolor\":\"#506784\",\"linecolor\":\"#506784\",\"minorgridcolor\":\"#506784\",\"startlinecolor\":\"#A2B1C6\"},\"baxis\":{\"endlinecolor\":\"#A2B1C6\",\"gridcolor\":\"#506784\",\"linecolor\":\"#506784\",\"minorgridcolor\":\"#506784\",\"startlinecolor\":\"#A2B1C6\"},\"type\":\"carpet\"}],\"choropleth\":[{\"colorbar\":{\"outlinewidth\":0,\"ticks\":\"\"},\"type\":\"choropleth\"}],\"contourcarpet\":[{\"colorbar\":{\"outlinewidth\":0,\"ticks\":\"\"},\"type\":\"contourcarpet\"}],\"contour\":[{\"colorbar\":{\"outlinewidth\":0,\"ticks\":\"\"},\"colorscale\":[[0.0,\"#0d0887\"],[0.1111111111111111,\"#46039f\"],[0.2222222222222222,\"#7201a8\"],[0.3333333333333333,\"#9c179e\"],[0.4444444444444444,\"#bd3786\"],[0.5555555555555556,\"#d8576b\"],[0.6666666666666666,\"#ed7953\"],[0.7777777777777778,\"#fb9f3a\"],[0.8888888888888888,\"#fdca26\"],[1.0,\"#f0f921\"]],\"type\":\"contour\"}],\"heatmapgl\":[{\"colorbar\":{\"outlinewidth\":0,\"ticks\":\"\"},\"colorscale\":[[0.0,\"#0d0887\"],[0.1111111111111111,\"#46039f\"],[0.2222222222222222,\"#7201a8\"],[0.3333333333333333,\"#9c179e\"],[0.4444444444444444,\"#bd3786\"],[0.5555555555555556,\"#d8576b\"],[0.6666666666666666,\"#ed7953\"],[0.7777777777777778,\"#fb9f3a\"],[0.8888888888888888,\"#fdca26\"],[1.0,\"#f0f921\"]],\"type\":\"heatmapgl\"}],\"heatmap\":[{\"colorbar\":{\"outlinewidth\":0,\"ticks\":\"\"},\"colorscale\":[[0.0,\"#0d0887\"],[0.1111111111111111,\"#46039f\"],[0.2222222222222222,\"#7201a8\"],[0.3333333333333333,\"#9c179e\"],[0.4444444444444444,\"#bd3786\"],[0.5555555555555556,\"#d8576b\"],[0.6666666666666666,\"#ed7953\"],[0.7777777777777778,\"#fb9f3a\"],[0.8888888888888888,\"#fdca26\"],[1.0,\"#f0f921\"]],\"type\":\"heatmap\"}],\"histogram2dcontour\":[{\"colorbar\":{\"outlinewidth\":0,\"ticks\":\"\"},\"colorscale\":[[0.0,\"#0d0887\"],[0.1111111111111111,\"#46039f\"],[0.2222222222222222,\"#7201a8\"],[0.3333333333333333,\"#9c179e\"],[0.4444444444444444,\"#bd3786\"],[0.5555555555555556,\"#d8576b\"],[0.6666666666666666,\"#ed7953\"],[0.7777777777777778,\"#fb9f3a\"],[0.8888888888888888,\"#fdca26\"],[1.0,\"#f0f921\"]],\"type\":\"histogram2dcontour\"}],\"histogram2d\":[{\"colorbar\":{\"outlinewidth\":0,\"ticks\":\"\"},\"colorscale\":[[0.0,\"#0d0887\"],[0.1111111111111111,\"#46039f\"],[0.2222222222222222,\"#7201a8\"],[0.3333333333333333,\"#9c179e\"],[0.4444444444444444,\"#bd3786\"],[0.5555555555555556,\"#d8576b\"],[0.6666666666666666,\"#ed7953\"],[0.7777777777777778,\"#fb9f3a\"],[0.8888888888888888,\"#fdca26\"],[1.0,\"#f0f921\"]],\"type\":\"histogram2d\"}],\"histogram\":[{\"marker\":{\"pattern\":{\"fillmode\":\"overlay\",\"size\":10,\"solidity\":0.2}},\"type\":\"histogram\"}],\"mesh3d\":[{\"colorbar\":{\"outlinewidth\":0,\"ticks\":\"\"},\"type\":\"mesh3d\"}],\"parcoords\":[{\"line\":{\"colorbar\":{\"outlinewidth\":0,\"ticks\":\"\"}},\"type\":\"parcoords\"}],\"pie\":[{\"automargin\":true,\"type\":\"pie\"}],\"scatter3d\":[{\"line\":{\"colorbar\":{\"outlinewidth\":0,\"ticks\":\"\"}},\"marker\":{\"colorbar\":{\"outlinewidth\":0,\"ticks\":\"\"}},\"type\":\"scatter3d\"}],\"scattercarpet\":[{\"marker\":{\"colorbar\":{\"outlinewidth\":0,\"ticks\":\"\"}},\"type\":\"scattercarpet\"}],\"scattergeo\":[{\"marker\":{\"colorbar\":{\"outlinewidth\":0,\"ticks\":\"\"}},\"type\":\"scattergeo\"}],\"scattergl\":[{\"marker\":{\"line\":{\"color\":\"#283442\"}},\"type\":\"scattergl\"}],\"scattermapbox\":[{\"marker\":{\"colorbar\":{\"outlinewidth\":0,\"ticks\":\"\"}},\"type\":\"scattermapbox\"}],\"scatterpolargl\":[{\"marker\":{\"colorbar\":{\"outlinewidth\":0,\"ticks\":\"\"}},\"type\":\"scatterpolargl\"}],\"scatterpolar\":[{\"marker\":{\"colorbar\":{\"outlinewidth\":0,\"ticks\":\"\"}},\"type\":\"scatterpolar\"}],\"scatter\":[{\"marker\":{\"line\":{\"color\":\"#283442\"}},\"type\":\"scatter\"}],\"scatterternary\":[{\"marker\":{\"colorbar\":{\"outlinewidth\":0,\"ticks\":\"\"}},\"type\":\"scatterternary\"}],\"surface\":[{\"colorbar\":{\"outlinewidth\":0,\"ticks\":\"\"},\"colorscale\":[[0.0,\"#0d0887\"],[0.1111111111111111,\"#46039f\"],[0.2222222222222222,\"#7201a8\"],[0.3333333333333333,\"#9c179e\"],[0.4444444444444444,\"#bd3786\"],[0.5555555555555556,\"#d8576b\"],[0.6666666666666666,\"#ed7953\"],[0.7777777777777778,\"#fb9f3a\"],[0.8888888888888888,\"#fdca26\"],[1.0,\"#f0f921\"]],\"type\":\"surface\"}],\"table\":[{\"cells\":{\"fill\":{\"color\":\"#506784\"},\"line\":{\"color\":\"rgb(17,17,17)\"}},\"header\":{\"fill\":{\"color\":\"#2a3f5f\"},\"line\":{\"color\":\"rgb(17,17,17)\"}},\"type\":\"table\"}]},\"layout\":{\"annotationdefaults\":{\"arrowcolor\":\"#f2f5fa\",\"arrowhead\":0,\"arrowwidth\":1},\"autotypenumbers\":\"strict\",\"coloraxis\":{\"colorbar\":{\"outlinewidth\":0,\"ticks\":\"\"}},\"colorscale\":{\"diverging\":[[0,\"#8e0152\"],[0.1,\"#c51b7d\"],[0.2,\"#de77ae\"],[0.3,\"#f1b6da\"],[0.4,\"#fde0ef\"],[0.5,\"#f7f7f7\"],[0.6,\"#e6f5d0\"],[0.7,\"#b8e186\"],[0.8,\"#7fbc41\"],[0.9,\"#4d9221\"],[1,\"#276419\"]],\"sequential\":[[0.0,\"#0d0887\"],[0.1111111111111111,\"#46039f\"],[0.2222222222222222,\"#7201a8\"],[0.3333333333333333,\"#9c179e\"],[0.4444444444444444,\"#bd3786\"],[0.5555555555555556,\"#d8576b\"],[0.6666666666666666,\"#ed7953\"],[0.7777777777777778,\"#fb9f3a\"],[0.8888888888888888,\"#fdca26\"],[1.0,\"#f0f921\"]],\"sequentialminus\":[[0.0,\"#0d0887\"],[0.1111111111111111,\"#46039f\"],[0.2222222222222222,\"#7201a8\"],[0.3333333333333333,\"#9c179e\"],[0.4444444444444444,\"#bd3786\"],[0.5555555555555556,\"#d8576b\"],[0.6666666666666666,\"#ed7953\"],[0.7777777777777778,\"#fb9f3a\"],[0.8888888888888888,\"#fdca26\"],[1.0,\"#f0f921\"]]},\"colorway\":[\"#636efa\",\"#EF553B\",\"#00cc96\",\"#ab63fa\",\"#FFA15A\",\"#19d3f3\",\"#FF6692\",\"#B6E880\",\"#FF97FF\",\"#FECB52\"],\"font\":{\"color\":\"#f2f5fa\"},\"geo\":{\"bgcolor\":\"rgb(17,17,17)\",\"lakecolor\":\"rgb(17,17,17)\",\"landcolor\":\"rgb(17,17,17)\",\"showlakes\":true,\"showland\":true,\"subunitcolor\":\"#506784\"},\"hoverlabel\":{\"align\":\"left\"},\"hovermode\":\"closest\",\"mapbox\":{\"style\":\"dark\"},\"paper_bgcolor\":\"rgb(17,17,17)\",\"plot_bgcolor\":\"rgb(17,17,17)\",\"polar\":{\"angularaxis\":{\"gridcolor\":\"#506784\",\"linecolor\":\"#506784\",\"ticks\":\"\"},\"bgcolor\":\"rgb(17,17,17)\",\"radialaxis\":{\"gridcolor\":\"#506784\",\"linecolor\":\"#506784\",\"ticks\":\"\"}},\"scene\":{\"xaxis\":{\"backgroundcolor\":\"rgb(17,17,17)\",\"gridcolor\":\"#506784\",\"gridwidth\":2,\"linecolor\":\"#506784\",\"showbackground\":true,\"ticks\":\"\",\"zerolinecolor\":\"#C8D4E3\"},\"yaxis\":{\"backgroundcolor\":\"rgb(17,17,17)\",\"gridcolor\":\"#506784\",\"gridwidth\":2,\"linecolor\":\"#506784\",\"showbackground\":true,\"ticks\":\"\",\"zerolinecolor\":\"#C8D4E3\"},\"zaxis\":{\"backgroundcolor\":\"rgb(17,17,17)\",\"gridcolor\":\"#506784\",\"gridwidth\":2,\"linecolor\":\"#506784\",\"showbackground\":true,\"ticks\":\"\",\"zerolinecolor\":\"#C8D4E3\"}},\"shapedefaults\":{\"line\":{\"color\":\"#f2f5fa\"}},\"sliderdefaults\":{\"bgcolor\":\"#C8D4E3\",\"bordercolor\":\"rgb(17,17,17)\",\"borderwidth\":1,\"tickwidth\":0},\"ternary\":{\"aaxis\":{\"gridcolor\":\"#506784\",\"linecolor\":\"#506784\",\"ticks\":\"\"},\"baxis\":{\"gridcolor\":\"#506784\",\"linecolor\":\"#506784\",\"ticks\":\"\"},\"bgcolor\":\"rgb(17,17,17)\",\"caxis\":{\"gridcolor\":\"#506784\",\"linecolor\":\"#506784\",\"ticks\":\"\"}},\"title\":{\"x\":0.05},\"updatemenudefaults\":{\"bgcolor\":\"#506784\",\"borderwidth\":0},\"xaxis\":{\"automargin\":true,\"gridcolor\":\"#283442\",\"linecolor\":\"#506784\",\"ticks\":\"\",\"title\":{\"standoff\":15},\"zerolinecolor\":\"#283442\",\"zerolinewidth\":2},\"yaxis\":{\"automargin\":true,\"gridcolor\":\"#283442\",\"linecolor\":\"#506784\",\"ticks\":\"\",\"title\":{\"standoff\":15},\"zerolinecolor\":\"#283442\",\"zerolinewidth\":2}}},\"scene\":{\"domain\":{\"x\":[0.0,1.0],\"y\":[0.0,1.0]},\"xaxis\":{\"title\":{\"text\":\"x1\"}},\"yaxis\":{\"title\":{\"text\":\"x2\"}},\"zaxis\":{\"title\":{\"text\":\"x3\"}},\"bgcolor\":\"black\"},\"legend\":{\"title\":{\"text\":\"Classes\"},\"tracegroupgap\":0},\"margin\":{\"t\":50,\"l\":0,\"r\":0,\"b\":0},\"title\":{\"text\":\"Dados de treino\"},\"width\":600,\"height\":400},                        {\"responsive\": true}                    ).then(function(){\n",
              "                            \n",
              "var gd = document.getElementById('f1303d59-d717-462e-92d6-c649e980d908');\n",
              "var x = new MutationObserver(function (mutations, observer) {{\n",
              "        var display = window.getComputedStyle(gd).display;\n",
              "        if (!display || display === 'none') {{\n",
              "            console.log([gd, 'removed!']);\n",
              "            Plotly.purge(gd);\n",
              "            observer.disconnect();\n",
              "        }}\n",
              "}});\n",
              "\n",
              "// Listen for the removal of the full notebook cells\n",
              "var notebookContainer = gd.closest('#notebook-container');\n",
              "if (notebookContainer) {{\n",
              "    x.observe(notebookContainer, {childList: true});\n",
              "}}\n",
              "\n",
              "// Listen for the clearing of the current output cell\n",
              "var outputEl = gd.closest('.output');\n",
              "if (outputEl) {{\n",
              "    x.observe(outputEl, {childList: true});\n",
              "}}\n",
              "\n",
              "                        })                };                            </script>        </div>\n",
              "</body>\n",
              "</html>"
            ]
          },
          "metadata": {}
        }
      ]
    },
    {
      "cell_type": "markdown",
      "source": [
        "---\n",
        "## <font color='Yellow'> Dados de validação </font>"
      ],
      "metadata": {
        "id": "b0vHdDArBOVy"
      }
    },
    {
      "cell_type": "code",
      "source": [
        "df_validacao = pd.read_csv('/content/drive/MyDrive/tabela3_3.csv', index_col=0, usecols=range(4))\n",
        "print(df_validacao)"
      ],
      "metadata": {
        "colab": {
          "base_uri": "https://localhost:8080/"
        },
        "id": "FU6l3JucPDvv",
        "outputId": "635de18e-ad26-4296-a3fb-360af2582ee7"
      },
      "execution_count": null,
      "outputs": [
        {
          "output_type": "stream",
          "name": "stdout",
          "text": [
            "             x1      x2      x3\n",
            "Amostra                        \n",
            "1       -0.3665  0.0620  5.9891\n",
            "2       -0.7842  1.1267  5.5912\n",
            "3        0.3012  0.5611  5.8234\n",
            "4        0.7757  1.0648  8.0677\n",
            "5        0.1570  0.8028  6.3040\n",
            "6       -0.7014  1.0316  3.6005\n",
            "7        0.3748  0.1536  6.1537\n",
            "8       -0.6920  0.9404  4.4058\n",
            "9       -1.3970  0.7141  4.9263\n",
            "10      -1.8842 -0.2805  1.2548\n"
          ]
        }
      ]
    },
    {
      "cell_type": "code",
      "source": [
        "# salvando os dados de validação\n",
        "X_validacao = df_validacao[['x1', 'x2', 'x3']].values"
      ],
      "metadata": {
        "id": "7fu7XWiY1jGr"
      },
      "execution_count": null,
      "outputs": []
    },
    {
      "cell_type": "markdown",
      "source": [
        "---\n",
        "## <font color='Yellow'> Modelo </font>"
      ],
      "metadata": {
        "id": "s-kJx0uWwtyR"
      }
    },
    {
      "cell_type": "code",
      "source": [
        "class Perceptron:\n",
        "  def __init__(self, taxa_aprendizagem=0.01):\n",
        "\n",
        "    np.random.seed(10) # definir uma semente para geração dos numeros aleatórios\n",
        "\n",
        "    self.taxa_aprendizagem = taxa_aprendizagem\n",
        "    self.pesos_iniciais = None\n",
        "    self.pesos = None\n",
        "    self.erros_por_epoca = []\n",
        "    self.n_epocas = None\n",
        "\n",
        "  def funcao_ativacao(self, u):\n",
        "    # Função degrau bipolar\n",
        "    return np.where(u >= 0, 1, -1)\n",
        "\n",
        "  def treinar(self, X: np.ndarray, d: np.ndarray):\n",
        "    # Inicializar o vetor de pesos com valores aleatórios pequenos\n",
        "    self.pesos = np.random.rand(X.shape[1] + 1).reshape(1, -1)   # cria um vetor linha com 4 pesos, no qual o primeiro peso é para o bias.\n",
        "    self.pesos_iniciais = self.pesos.copy()\n",
        "\n",
        "    epoca = 0\n",
        "\n",
        "    while True:\n",
        "      erro = 0\n",
        "\n",
        "      for xi, di in zip(X, d):\n",
        "        # Adicionar o bias (-1) ao vetor de entrada\n",
        "        xi = np.insert(xi, 0, -1)\n",
        "\n",
        "        # Calcular a saída do Perceptron\n",
        "        u = np.dot(self.pesos, xi) # realiza o produto escalar entre os dois arrays, obtendo-se um único número (potencial de ativação).\n",
        "        y = self.funcao_ativacao(u)\n",
        "\n",
        "        # Atualizar os pesos usando a regra de Hebb\n",
        "        if y != di:\n",
        "          self.pesos += self.taxa_aprendizagem * (di - y) * xi\n",
        "          erro += 1\n",
        "\n",
        "      self.erros_por_epoca.append(erro) # armazena o número de erros cometidos pelo modelo durante cada época de treinamento.\n",
        "      epoca += 1\n",
        "\n",
        "      if erro == 0:\n",
        "        print(f'Época: {epoca}')\n",
        "        print(f'Vetor de pesos iniciais: {self.pesos_iniciais}')\n",
        "        print(f'Vetor de pesos finais: {self.pesos}')\n",
        "        break\n",
        "\n",
        "  def classificar(self, X: np.ndarray):\n",
        "      pesos_ajustados = self.pesos.copy()\n",
        "\n",
        "      for i, xi in enumerate(X):\n",
        "        xi = np.insert(xi, 0, -1) # Adiciona o bias (-1) ao vetor de entrada\n",
        "        u = np.dot(pesos_ajustados, xi)\n",
        "        y = self.funcao_ativacao(u)\n",
        "\n",
        "        if y == -1:\n",
        "          print(f'A amostra {i+1} pertence a classe P1 (-1)')\n",
        "        else:\n",
        "          print(f'A amostra {i+1} pertence a classe P2 (1)')\n",
        "\n",
        "  def plotar_erros(self):\n",
        "      plt.plot(range(1, len(self.erros_por_epoca) + 1), self.erros_por_epoca, marker='o', markersize=5, color='cyan', alpha=0.7, linestyle='--')\n",
        "      plt.xlabel('Época')\n",
        "      plt.ylabel('Número de erros')\n",
        "      plt.title('Erros por Época', fontsize=15)\n",
        "      plt.show()"
      ],
      "metadata": {
        "id": "Cbv4wW3EwwGw"
      },
      "execution_count": null,
      "outputs": []
    },
    {
      "cell_type": "markdown",
      "source": [
        "---\n",
        "## <font color='Yellow'> Treinamento do modelo </font>\n"
      ],
      "metadata": {
        "id": "QgZ5XEl_1Z4T"
      }
    },
    {
      "cell_type": "code",
      "source": [
        "modelo_perceptron = Perceptron(taxa_aprendizagem=0.01)\n",
        "modelo_perceptron.treinar(X_treino, d_treino)"
      ],
      "metadata": {
        "colab": {
          "base_uri": "https://localhost:8080/"
        },
        "id": "PLznfmk3E6gz",
        "outputId": "9b9c0086-0f49-454e-aa48-9b72b4975cc5"
      },
      "execution_count": null,
      "outputs": [
        {
          "output_type": "stream",
          "name": "stdout",
          "text": [
            "Época: 447\n",
            "Vetor de pesos iniciais: [[0.77132064 0.02075195 0.63364823 0.74880388]]\n",
            "Vetor de pesos finais: [[-3.12867936  1.61669995  2.52421423 -0.74714412]]\n"
          ]
        }
      ]
    },
    {
      "cell_type": "code",
      "source": [
        "modelo_perceptron.plotar_erros()"
      ],
      "metadata": {
        "colab": {
          "base_uri": "https://localhost:8080/",
          "height": 480
        },
        "id": "-Ik3A_arz2Kt",
        "outputId": "2ee0bd13-5bf9-4c39-cdfb-4db229af65ef"
      },
      "execution_count": null,
      "outputs": [
        {
          "output_type": "display_data",
          "data": {
            "text/plain": [
              "<Figure size 640x480 with 1 Axes>"
            ],
            "image/png": "[encoded data removed]"
          },
          "metadata": {}
        }
      ]
    },
    {
      "cell_type": "markdown",
      "source": [
        "---\n",
        "## <font color='Yellow'> Classificação das amostras de validação </font>"
      ],
      "metadata": {
        "id": "dTZKeKaG3SvY"
      }
    },
    {
      "cell_type": "code",
      "source": [
        "modelo_perceptron.classificar(X_validacao)"
      ],
      "metadata": {
        "colab": {
          "base_uri": "https://localhost:8080/"
        },
        "id": "fTJnqHna1Tii",
        "outputId": "d3fe8dec-cd17-4bd6-f469-59edf9f98a7e"
      },
      "execution_count": null,
      "outputs": [
        {
          "output_type": "stream",
          "name": "stdout",
          "text": [
            "A amostra 1 pertence a classe P1 (-1)\n",
            "A amostra 2 pertence a classe P2 (1)\n",
            "A amostra 3 pertence a classe P2 (1)\n",
            "A amostra 4 pertence a classe P2 (1)\n",
            "A amostra 5 pertence a classe P2 (1)\n",
            "A amostra 6 pertence a classe P2 (1)\n",
            "A amostra 7 pertence a classe P1 (-1)\n",
            "A amostra 8 pertence a classe P2 (1)\n",
            "A amostra 9 pertence a classe P1 (-1)\n",
            "A amostra 10 pertence a classe P1 (-1)\n"
          ]
        }
      ]
    }
  ]
}